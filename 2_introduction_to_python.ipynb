{
 "cells": [
  {
   "cell_type": "markdown",
   "metadata": {},
   "source": [
    "# Introduction Python"
   ]
  },
  {
   "cell_type": "markdown",
   "metadata": {},
   "source": [
    "Python adalah bahasa pemrograman yang sifatnya general.\n",
    "Dapat diaplikasikan untuk beragam kebutuhan, mulai dari aplikasi web, aplikasi desktop, untuk pemrograman saintifik, pemrograman jaringan, dsb.\n",
    "\n",
    "Python memiliki beberapa keunggulan diantaranya adalah:\n",
    "- Sintaks yang mudah dibaca dan diinterpretasikan\n",
    "- Kemudahan instalasi,\n",
    "- dan memiliki dukungan library yang sangat banyak\n",
    "- Dynamic typing\n",
    "\n",
    "Namun, Python juga memiliki beberapa kelemahan, seperti:\n",
    "- Dari segi kecepatan, Python relatif lebih lambat dibanding bahasa compiled (C++, Java)\n",
    "- Kurangnya dukungan terhadap sistem konkurensi. Python GIL hanya mengijinkan satu thread berjalan pada satu waktu.\n"
   ]
  },
  {
   "cell_type": "markdown",
   "metadata": {},
   "source": [
    "## The Zen of Ptyhon\n",
    "\n",
    "Python memiliki beberapa prinsip dalam pengembangan software, dimana prinsip - prinsip ini juga menjadi landasan dalam pengembangan bahasa pemrograman Python.\n",
    "Untuk mengetahui prinsip - prinsip tersebut, jalankan perintah berikut dalam notebook, atau dalam Python interpreter anda."
   ]
  },
  {
   "cell_type": "code",
   "execution_count": 1,
   "metadata": {
    "scrolled": true
   },
   "outputs": [
    {
     "name": "stdout",
     "output_type": "stream",
     "text": [
      "The Zen of Python, by Tim Peters\n",
      "\n",
      "Beautiful is better than ugly.\n",
      "Explicit is better than implicit.\n",
      "Simple is better than complex.\n",
      "Complex is better than complicated.\n",
      "Flat is better than nested.\n",
      "Sparse is better than dense.\n",
      "Readability counts.\n",
      "Special cases aren't special enough to break the rules.\n",
      "Although practicality beats purity.\n",
      "Errors should never pass silently.\n",
      "Unless explicitly silenced.\n",
      "In the face of ambiguity, refuse the temptation to guess.\n",
      "There should be one-- and preferably only one --obvious way to do it.\n",
      "Although that way may not be obvious at first unless you're Dutch.\n",
      "Now is better than never.\n",
      "Although never is often better than *right* now.\n",
      "If the implementation is hard to explain, it's a bad idea.\n",
      "If the implementation is easy to explain, it may be a good idea.\n",
      "Namespaces are one honking great idea -- let's do more of those!\n"
     ]
    }
   ],
   "source": [
    "import this"
   ]
  },
  {
   "cell_type": "markdown",
   "metadata": {},
   "source": [
    "Selanjutnya, mari kita bahas beberapa sintaks dasar dalam bahasa Python."
   ]
  },
  {
   "cell_type": "markdown",
   "metadata": {},
   "source": [
    "## Print"
   ]
  },
  {
   "cell_type": "code",
   "execution_count": 2,
   "metadata": {},
   "outputs": [
    {
     "name": "stdout",
     "output_type": "stream",
     "text": [
      "Hello Machine Learning!\n"
     ]
    }
   ],
   "source": [
    "print(\"Hello Machine Learning!\")"
   ]
  },
  {
   "cell_type": "markdown",
   "metadata": {},
   "source": [
    "## Comment\n"
   ]
  },
  {
   "cell_type": "code",
   "execution_count": 3,
   "metadata": {},
   "outputs": [
    {
     "name": "stdout",
     "output_type": "stream",
     "text": [
      "Hello\n"
     ]
    }
   ],
   "source": [
    "# ini adalah baris komentar yang tidak akan dieksekusi\n",
    "# print(\"Hello Machine Learning!\")\n",
    "print(\"Hello\")"
   ]
  },
  {
   "cell_type": "markdown",
   "metadata": {},
   "source": [
    "Setiap baris yang diawali dengan tanda `#` tidak akan dieksekusi.\n",
    "\n",
    "Kita juga bisa menuliskan komentar dalam format docstring.\n",
    "Format ini hanya berlaku di dalam sebuah method / function, dan fungsinya sebagai dokumentasi kode."
   ]
  },
  {
   "cell_type": "code",
   "execution_count": 12,
   "metadata": {},
   "outputs": [
    {
     "data": {
      "text/plain": [
       "7"
      ]
     },
     "execution_count": 12,
     "metadata": {},
     "output_type": "execute_result"
    }
   ],
   "source": [
    "def add_numbers(x, y):\n",
    "    \"\"\"\n",
    "    Function to add two numbers\n",
    "    \"\"\"\n",
    "    return x + y\n",
    "add_numbers(2,5)"
   ]
  },
  {
   "cell_type": "markdown",
   "metadata": {},
   "source": [
    "## Indentation"
   ]
  },
  {
   "cell_type": "markdown",
   "metadata": {},
   "source": [
    "Berbeda dengan bahasa pemrograman lain yang menggunakan kurung kurawal `{` `}` (C++, Javascript) atau `begin` `end` sebagai penanda awal dan akhir sebuah blok, Python menggunakan indentasi sebagai penanda sebuah blok.\n",
    "Baris baris kode dengan indentasi yang selevel dianggap sebagai satu blok.\n",
    "Indentasi dapat dibuat dengan spasi (biasanya 4 karakter spasi) atau dengan menggunakan 1 karakter tab.\n",
    "\n",
    "Apakah anda akan menggunakan spasi atau tab sebagai penanda indentasi tidaklah masalah.\n",
    "Yang perlu diperhatikan adalah kita harus selalu menjaga konsistensi dalam penulisan kode.\n",
    "Jika kita telah memutuskan untuk menggunakan 4 karakter spasi sebagai indentasi, maka seluruh kode yg kita tulis harus menggunakan aturan yang sama."
   ]
  },
  {
   "cell_type": "code",
   "execution_count": 6,
   "metadata": {},
   "outputs": [
    {
     "name": "stdout",
     "output_type": "stream",
     "text": [
      "Hello machine learning\n",
      "Hello machine learning\n",
      "Hello machine learning\n",
      "Hello machine learning\n",
      "Hello machine learning\n",
      "Hello machine learning\n",
      "Hello machine learning\n",
      "Hello machine learning\n",
      "Hello machine learning\n",
      "Hello machine learning\n",
      "end\n"
     ]
    }
   ],
   "source": [
    "for i in range(10):\n",
    "    # perintah print di bawah menjorok dengan 4 spasi\n",
    "    # menandakan bahwa perintah tersebut bagian dari for-loop\n",
    "    print(\"Hello machine learning\")\n",
    "print(\"end\")"
   ]
  },
  {
   "cell_type": "markdown",
   "metadata": {},
   "source": [
    "## Modules\n",
    "\n",
    "Beberapa fitur bawaan Python tidak termuat secara otomatis.\n",
    "Fitur - fitur tersebut biasanya terdistribusi dalam modul -  modul.\n",
    "Untuk menggunakan modul tersebut, anda dapat menggunakan sintaks `import`."
   ]
  },
  {
   "cell_type": "code",
   "execution_count": 9,
   "metadata": {},
   "outputs": [
    {
     "data": {
      "text/plain": [
       "3.141592653589793"
      ]
     },
     "execution_count": 9,
     "metadata": {},
     "output_type": "execute_result"
    }
   ],
   "source": [
    "import math\n",
    "math.pi"
   ]
  },
  {
   "cell_type": "markdown",
   "metadata": {},
   "source": [
    "Sintaks `import` juga digunakan untuk memuat library atau paket - paket third-party yang anda install ke dalam komputer anda."
   ]
  },
  {
   "cell_type": "code",
   "execution_count": 15,
   "metadata": {},
   "outputs": [
    {
     "data": {
      "text/plain": [
       "0.6575149023355066"
      ]
     },
     "execution_count": 15,
     "metadata": {},
     "output_type": "execute_result"
    }
   ],
   "source": [
    "import numpy as np\n",
    "np.random.random()"
   ]
  },
  {
   "cell_type": "markdown",
   "metadata": {},
   "source": [
    "## Variables"
   ]
  },
  {
   "cell_type": "markdown",
   "metadata": {},
   "source": [
    "Python adalah bahasa pemrograman dynamic typing.\n",
    "Artinya pendeklarasian tipe variabel bersifat opsional.\n",
    "Python akan secara otomatis mengetahui tipe data pada sebuah variabel dari nilai yg direferensikannya.\n",
    "\n",
    "Berikut adalah beberapa contoh tipe data primitif di Python."
   ]
  },
  {
   "cell_type": "markdown",
   "metadata": {},
   "source": [
    "### Integer"
   ]
  },
  {
   "cell_type": "code",
   "execution_count": 16,
   "metadata": {},
   "outputs": [
    {
     "data": {
      "text/plain": [
       "100"
      ]
     },
     "execution_count": 16,
     "metadata": {},
     "output_type": "execute_result"
    }
   ],
   "source": [
    "x = 100\n",
    "x"
   ]
  },
  {
   "cell_type": "markdown",
   "metadata": {},
   "source": [
    "### Float"
   ]
  },
  {
   "cell_type": "code",
   "execution_count": 17,
   "metadata": {},
   "outputs": [
    {
     "data": {
      "text/plain": [
       "36.0"
      ]
     },
     "execution_count": 17,
     "metadata": {},
     "output_type": "execute_result"
    }
   ],
   "source": [
    "y = 36.0\n",
    "y"
   ]
  },
  {
   "cell_type": "markdown",
   "metadata": {},
   "source": [
    "### String\n",
    "\n",
    "Variabel String dapat didefinisikan dengan single quote `'` ataupun dengan double quote `\"`."
   ]
  },
  {
   "cell_type": "code",
   "execution_count": 21,
   "metadata": {},
   "outputs": [
    {
     "data": {
      "text/plain": [
       "'Apa kabar?'"
      ]
     },
     "execution_count": 21,
     "metadata": {},
     "output_type": "execute_result"
    }
   ],
   "source": [
    "message = 'Apa kabar?'\n",
    "message"
   ]
  },
  {
   "cell_type": "markdown",
   "metadata": {},
   "source": [
    "### Boolean"
   ]
  },
  {
   "cell_type": "code",
   "execution_count": 22,
   "metadata": {},
   "outputs": [
    {
     "data": {
      "text/plain": [
       "True"
      ]
     },
     "execution_count": 22,
     "metadata": {},
     "output_type": "execute_result"
    }
   ],
   "source": [
    "correct = True\n",
    "correct"
   ]
  },
  {
   "cell_type": "markdown",
   "metadata": {},
   "source": [
    "Pada saat kita melakukan operasi `x = 100`, artinya kita memerintahkan untuk membuat simbol `x` dan mengaitkan simbol tersebut ke sebuah object integer dengan nilai `100`.\n",
    "Dengan kata lain simbol `x` tidak menyimpan nilai `100` tetapi dia merujuk pada sebuah objek dengan nilai `100`.\n",
    "Konsep ini mirip dengan konsep pointer di bahasa pemrograman `C` atau `C++`.\n",
    "\n",
    "Selain itu, tipe data primitif di atas sifatnya immutable atau permanen dan tidak bisa diubah nilainya.\n",
    "Contoh:"
   ]
  },
  {
   "cell_type": "code",
   "execution_count": 23,
   "metadata": {},
   "outputs": [],
   "source": [
    "x = 100  # x --> 100\n",
    "y = x  # y --> 100\n",
    "x = 50  # x --> 50"
   ]
  },
  {
   "cell_type": "markdown",
   "metadata": {},
   "source": [
    "Jika kita menjalankan sintaks di atas, yang terjadi adalah:\n",
    "1. variabel `x` merefer object integer `100`\n",
    "2. variabel `y` merefer object yang sama dengan apa yg direfer oleh `x`, yaitu integer `100`.\n",
    "Operasi ini tidak meng-copy data dari `x` ke `y`.\n",
    "3. variabel `x` kemudian merefer ke object lain, yaitu integer `50`"
   ]
  },
  {
   "cell_type": "markdown",
   "metadata": {},
   "source": [
    "Begitu juga dengan `string`. Contoh:"
   ]
  },
  {
   "cell_type": "code",
   "execution_count": 24,
   "metadata": {},
   "outputs": [
    {
     "data": {
      "text/plain": [
       "'Hello world'"
      ]
     },
     "execution_count": 24,
     "metadata": {},
     "output_type": "execute_result"
    }
   ],
   "source": [
    "message = \"Hello\"\n",
    "message = message + \" world\"\n",
    "message"
   ]
  },
  {
   "cell_type": "markdown",
   "metadata": {},
   "source": [
    "Karena string bersifat immutable, maka yang terjadi adalah variabel `message` pertama merefer ke object `Hello`, kemudian ia merefer ke object yg lain yaitu `Hello world`."
   ]
  },
  {
   "cell_type": "markdown",
   "metadata": {},
   "source": [
    "## Collections\n",
    "\n",
    "Collections merupakan sebuah kontainer yang menyimpan informasi sekumpulan object, dengan tipe datau yang sama ataupun berbeda. Beberapa contoh collections di Python antara lain:"
   ]
  },
  {
   "cell_type": "markdown",
   "metadata": {},
   "source": [
    "### Tuple\n",
    "\n",
    "Tuple merupakan kumpulan dari beberapa nilai yang bersifat immutable."
   ]
  },
  {
   "cell_type": "code",
   "execution_count": 27,
   "metadata": {},
   "outputs": [
    {
     "data": {
      "text/plain": [
       "128"
      ]
     },
     "execution_count": 27,
     "metadata": {},
     "output_type": "execute_result"
    }
   ],
   "source": [
    "color = (0, 128, 255)\n",
    "color[1]"
   ]
  },
  {
   "cell_type": "markdown",
   "metadata": {},
   "source": [
    "### List"
   ]
  },
  {
   "cell_type": "markdown",
   "metadata": {},
   "source": [
    "List merupakan koleksi dari sejumlah nilai yang tersusun secara sekuensial.\n",
    "Dalam bahasa pemrograman lain sering dikenal dengan istilah array.\n",
    "Di Python, sebuah list dapat memuat berbagai macam nilai dengan tipe data yang berbeda, misal Integer dan String.\n",
    "Berbeda dengan Tuple, List bersifat mutable.\n",
    "Artinya kita bisa memodifikasi elemen - elemen di dalam list tersebut."
   ]
  },
  {
   "cell_type": "code",
   "execution_count": 32,
   "metadata": {},
   "outputs": [
    {
     "data": {
      "text/plain": [
       "'Pisang'"
      ]
     },
     "execution_count": 32,
     "metadata": {},
     "output_type": "execute_result"
    }
   ],
   "source": [
    "fruits = [\"Apel\", \"Pisang\"]\n",
    "fruits[1]"
   ]
  },
  {
   "cell_type": "markdown",
   "metadata": {},
   "source": [
    "Di atas kita membuat variable `fruits` yang merefer pada objek `list` yang terdiri dari sekumpulan objek string.\n",
    "List bersifat mutable, jadi ketika kita menambahkan objek / elemen baru pada objek list, maka ukuran list tersebut akan menyesuaikan dengan jumlah elemennya."
   ]
  },
  {
   "cell_type": "markdown",
   "metadata": {},
   "source": [
    "Kita dapat menambahkan elemen baru pada list dengan menggunakan built-in method `.append`"
   ]
  },
  {
   "cell_type": "code",
   "execution_count": 39,
   "metadata": {},
   "outputs": [],
   "source": [
    "fruits.append(\"Jeruk\")"
   ]
  },
  {
   "cell_type": "markdown",
   "metadata": {},
   "source": [
    "Untuk mengetahui berapa jumlah elemen yang ada di dalam list, kita dapat menggunakan method `len`."
   ]
  },
  {
   "cell_type": "code",
   "execution_count": 34,
   "metadata": {},
   "outputs": [
    {
     "data": {
      "text/plain": [
       "3"
      ]
     },
     "execution_count": 34,
     "metadata": {},
     "output_type": "execute_result"
    }
   ],
   "source": [
    "len(fruits)"
   ]
  },
  {
   "cell_type": "markdown",
   "metadata": {},
   "source": [
    "Untuk mengakses elemen dalam list, dapat menggunakan Integer index dimulai dari index 0 untuk elemen pertama.\n",
    "Indexing ini berguna untuk menampilkan elemen pada index tertentu atau juga untuk memanipulasi list.\n"
   ]
  },
  {
   "cell_type": "code",
   "execution_count": 36,
   "metadata": {},
   "outputs": [
    {
     "data": {
      "text/plain": [
       "'Aprikot'"
      ]
     },
     "execution_count": 36,
     "metadata": {},
     "output_type": "execute_result"
    }
   ],
   "source": [
    "fruits[2]"
   ]
  },
  {
   "cell_type": "markdown",
   "metadata": {},
   "source": [
    "Index `-1` artinya elemen terakhir.\n",
    "Index `-2` artinya elemen kedua dari paling belakang."
   ]
  },
  {
   "cell_type": "code",
   "execution_count": 38,
   "metadata": {},
   "outputs": [
    {
     "data": {
      "text/plain": [
       "'Pisang'"
      ]
     },
     "execution_count": 38,
     "metadata": {},
     "output_type": "execute_result"
    }
   ],
   "source": [
    "fruits[-2]"
   ]
  },
  {
   "cell_type": "markdown",
   "metadata": {},
   "source": [
    "Untuk mengetahui index dari sebuah nilai di dalam list, dapat menggunakan method `.index`."
   ]
  },
  {
   "cell_type": "code",
   "execution_count": 42,
   "metadata": {},
   "outputs": [
    {
     "data": {
      "text/plain": [
       "3"
      ]
     },
     "execution_count": 42,
     "metadata": {},
     "output_type": "execute_result"
    }
   ],
   "source": [
    "fruits.index(\"Jeruk\")"
   ]
  },
  {
   "cell_type": "markdown",
   "metadata": {},
   "source": [
    "Sedangkan untuk mengecek apakah sebuah nilai ada dalam list, dapat menggunakan sintak `in`."
   ]
  },
  {
   "cell_type": "code",
   "execution_count": 43,
   "metadata": {},
   "outputs": [
    {
     "data": {
      "text/plain": [
       "False"
      ]
     },
     "execution_count": 43,
     "metadata": {},
     "output_type": "execute_result"
    }
   ],
   "source": [
    "\"Salak\" in fruits"
   ]
  },
  {
   "cell_type": "code",
   "execution_count": 45,
   "metadata": {},
   "outputs": [
    {
     "data": {
      "text/plain": [
       "True"
      ]
     },
     "execution_count": 45,
     "metadata": {},
     "output_type": "execute_result"
    }
   ],
   "source": [
    "\"Jeruk\" in fruits"
   ]
  },
  {
   "cell_type": "markdown",
   "metadata": {},
   "source": [
    "Seringkali kita perlu mengurutkan nilai - nilai yang ada pada sebuah List.\n",
    "Python memiliki method `sorted` yang bisa dipakai."
   ]
  },
  {
   "cell_type": "code",
   "execution_count": 46,
   "metadata": {},
   "outputs": [
    {
     "data": {
      "text/plain": [
       "['Apel', 'Aprikot', 'Jeruk', 'Pisang']"
      ]
     },
     "execution_count": 46,
     "metadata": {},
     "output_type": "execute_result"
    }
   ],
   "source": [
    "sorted(fruits)"
   ]
  },
  {
   "cell_type": "markdown",
   "metadata": {},
   "source": [
    "Untuk pengurutan nilai secara descending, bisa ditambahbakan parameter `reverse=True`."
   ]
  },
  {
   "cell_type": "code",
   "execution_count": 47,
   "metadata": {},
   "outputs": [
    {
     "data": {
      "text/plain": [
       "['Pisang', 'Jeruk', 'Aprikot', 'Apel']"
      ]
     },
     "execution_count": 47,
     "metadata": {},
     "output_type": "execute_result"
    }
   ],
   "source": [
    "sorted(fruits, reverse=True)"
   ]
  },
  {
   "cell_type": "code",
   "execution_count": 48,
   "metadata": {},
   "outputs": [
    {
     "data": {
      "text/plain": [
       "['Apel', 'Pisang', 'Aprikot']"
      ]
     },
     "execution_count": 48,
     "metadata": {},
     "output_type": "execute_result"
    }
   ],
   "source": [
    "fruits.pop()\n",
    "fruits"
   ]
  },
  {
   "cell_type": "code",
   "execution_count": 49,
   "metadata": {},
   "outputs": [
    {
     "data": {
      "text/plain": [
       "3"
      ]
     },
     "execution_count": 49,
     "metadata": {},
     "output_type": "execute_result"
    }
   ],
   "source": [
    "len(fruits)"
   ]
  },
  {
   "cell_type": "markdown",
   "metadata": {},
   "source": [
    "### Dictionary"
   ]
  },
  {
   "cell_type": "markdown",
   "metadata": {},
   "source": [
    "Dictionary mirip dengan List, hanya saja setiap elemennya berupa sepasang `key` dan `value`.\n",
    "Berbeda dengan list yang setiap elemennya dapat diakses dengan Integer index.\n",
    "Dalam Dictionary, setiap elemennya dapat diakses dengan `key`-nya.\n",
    "Dimana `key` ini dapat berupa String, Integer, atau tipe data lain."
   ]
  },
  {
   "cell_type": "code",
   "execution_count": 52,
   "metadata": {},
   "outputs": [
    {
     "data": {
      "text/plain": [
       "30"
      ]
     },
     "execution_count": 52,
     "metadata": {},
     "output_type": "execute_result"
    }
   ],
   "source": [
    "customer = {\"nama\": \"John\", \"umur\": 30}\n",
    "customer[\"umur\"]"
   ]
  },
  {
   "cell_type": "code",
   "execution_count": 53,
   "metadata": {},
   "outputs": [
    {
     "data": {
      "text/plain": [
       "'John'"
      ]
     },
     "execution_count": 53,
     "metadata": {},
     "output_type": "execute_result"
    }
   ],
   "source": [
    "customer[\"nama\"]"
   ]
  },
  {
   "cell_type": "markdown",
   "metadata": {},
   "source": [
    "Untuk menambahkan elemen baru pada Dictionary:"
   ]
  },
  {
   "cell_type": "code",
   "execution_count": 54,
   "metadata": {},
   "outputs": [
    {
     "data": {
      "text/plain": [
       "{'nama': 'John', 'umur': 30, 'email': 'john@example.com'}"
      ]
     },
     "execution_count": 54,
     "metadata": {},
     "output_type": "execute_result"
    }
   ],
   "source": [
    "customer[\"email\"] = \"john@example.com\"\n",
    "customer"
   ]
  },
  {
   "cell_type": "markdown",
   "metadata": {},
   "source": [
    "Untuk mengakses elemen pada Dictionary, kita perlu mengetahui `key` nya."
   ]
  },
  {
   "cell_type": "code",
   "execution_count": 55,
   "metadata": {},
   "outputs": [
    {
     "data": {
      "text/plain": [
       "'john@example.com'"
      ]
     },
     "execution_count": 55,
     "metadata": {},
     "output_type": "execute_result"
    }
   ],
   "source": [
    "customer[\"email\"]"
   ]
  },
  {
   "cell_type": "markdown",
   "metadata": {},
   "source": [
    "Kita juga dapat mengakses seluruh `key`, seluruh `value`, ataupun seluruh pasangan `key` dan `value`."
   ]
  },
  {
   "cell_type": "code",
   "execution_count": 57,
   "metadata": {},
   "outputs": [
    {
     "name": "stdout",
     "output_type": "stream",
     "text": [
      "John\n",
      "30\n",
      "john@example.com\n"
     ]
    }
   ],
   "source": [
    "coba=list(customer.keys())\n",
    "panjang=len(coba)\n",
    "for i in range(panjang):\n",
    "    print(customer[coba[i]])\n",
    "#coba"
   ]
  },
  {
   "cell_type": "code",
   "execution_count": 61,
   "metadata": {},
   "outputs": [
    {
     "name": "stdout",
     "output_type": "stream",
     "text": [
      "John\n",
      "30\n",
      "john@example.com\n"
     ]
    }
   ],
   "source": [
    "isi=list(customer.values())\n",
    "panjang=len(isi)\n",
    "for i in range(panjang):\n",
    "    print(isi[i])"
   ]
  },
  {
   "cell_type": "code",
   "execution_count": 62,
   "metadata": {},
   "outputs": [
    {
     "data": {
      "text/plain": [
       "dict_items([('nama', 'John'), ('umur', 30), ('email', 'john@example.com')])"
      ]
     },
     "execution_count": 62,
     "metadata": {},
     "output_type": "execute_result"
    }
   ],
   "source": [
    "customer.items()"
   ]
  },
  {
   "cell_type": "code",
   "execution_count": 64,
   "metadata": {},
   "outputs": [
    {
     "data": {
      "text/plain": [
       "'Kedungkandang'"
      ]
     },
     "execution_count": 64,
     "metadata": {},
     "output_type": "execute_result"
    }
   ],
   "source": [
    "customer2 = [{\"name\": \"john\", \"alamat\": \"Kedungkandang\"},\n",
    "             {\"name\": \"tina\", \"alamat\": \"New York\"}\n",
    "            ]\n",
    "customer2[0][\"alamat\"]"
   ]
  },
  {
   "cell_type": "code",
   "execution_count": 65,
   "metadata": {},
   "outputs": [
    {
     "data": {
      "text/plain": [
       "'New York'"
      ]
     },
     "execution_count": 65,
     "metadata": {},
     "output_type": "execute_result"
    }
   ],
   "source": [
    "customer2[1][\"alamat\"]"
   ]
  },
  {
   "cell_type": "markdown",
   "metadata": {},
   "source": [
    "### defaultdict"
   ]
  },
  {
   "cell_type": "markdown",
   "metadata": {},
   "source": [
    "defaultdict sama dengan tipe data dictionary yang sudah kita bahas di atas.\n",
    "Hanya saja kita bisa menambahkan default value jika key yang dicari tidak/belum ada dalam dictionary tersebut.\n",
    "Untuk menggunakan defaultdict kita perlu import dari modul `collections` yang sudah bawaan dari Python."
   ]
  },
  {
   "cell_type": "code",
   "execution_count": 68,
   "metadata": {},
   "outputs": [
    {
     "name": "stdout",
     "output_type": "stream",
     "text": [
      "defaultdict(<class 'int'>, {})\n",
      "0\n"
     ]
    }
   ],
   "source": [
    "from collections import defaultdict\n",
    "\n",
    "word_count = defaultdict(int)\n",
    "\n",
    "print(word_count)\n",
    "print(word_count[\"data\"])"
   ]
  },
  {
   "cell_type": "code",
   "execution_count": 69,
   "metadata": {},
   "outputs": [
    {
     "data": {
      "text/plain": [
       "defaultdict(int, {'data': 0, 'python': 1})"
      ]
     },
     "execution_count": 69,
     "metadata": {},
     "output_type": "execute_result"
    }
   ],
   "source": [
    "word_count[\"python\"] += 1\n",
    "word_count"
   ]
  },
  {
   "cell_type": "markdown",
   "metadata": {},
   "source": [
    "Default value tidak harus numeric, bisa juga berupa `list` atau `tuple`.\n",
    "Jika tipenya berupa `list` atau `tuple`, maka default value nya adalah list kosong."
   ]
  },
  {
   "cell_type": "code",
   "execution_count": 73,
   "metadata": {},
   "outputs": [
    {
     "data": {
      "text/plain": [
       "1"
      ]
     },
     "execution_count": 73,
     "metadata": {},
     "output_type": "execute_result"
    }
   ],
   "source": [
    "#group = defaultdict(list)\n",
    "\n",
    "#print(group)\n",
    "#group[\"ganjil\"].append(1)\n",
    "#group[\"genap\"] += [4, 8]\n",
    "#print(group)\n",
    "group[\"ganjil\"][0]"
   ]
  },
  {
   "cell_type": "code",
   "execution_count": 75,
   "metadata": {},
   "outputs": [
    {
     "data": {
      "text/plain": [
       "defaultdict(list, {'ganjil': [1], 'genap': []})"
      ]
     },
     "execution_count": 75,
     "metadata": {},
     "output_type": "execute_result"
    }
   ],
   "source": [
    "group"
   ]
  },
  {
   "cell_type": "markdown",
   "metadata": {},
   "source": [
    "### Set"
   ]
  },
  {
   "cell_type": "markdown",
   "metadata": {},
   "source": [
    "Set merupakan tipe data yang merepresentasikan sebuah himpunan dari sekumpulan elemen.\n",
    "Biasanya dipakai untuk menyimpan sekumpulan nilai yang unik."
   ]
  },
  {
   "cell_type": "code",
   "execution_count": 81,
   "metadata": {},
   "outputs": [
    {
     "data": {
      "text/plain": [
       "'aku'"
      ]
     },
     "execution_count": 81,
     "metadata": {},
     "output_type": "execute_result"
    }
   ],
   "source": [
    "list_of_words = [\"aku\", \"kamu\", \"aku\", \"nonton\", \"film\", \"nonton\"]\n",
    "unique_words = set(list_of_words)\n",
    "unik=list(unique_words)\n",
    "unik[2]"
   ]
  },
  {
   "cell_type": "markdown",
   "metadata": {},
   "source": [
    "Untuk menambahkan elemen dalam Set dapat menggunakan built-in method `.add`."
   ]
  },
  {
   "cell_type": "code",
   "execution_count": 84,
   "metadata": {},
   "outputs": [
    {
     "data": {
      "text/plain": [
       "5"
      ]
     },
     "execution_count": 84,
     "metadata": {},
     "output_type": "execute_result"
    }
   ],
   "source": [
    "unique_words.add(\"film\")\n",
    "unique_words.add(\"bagus\")\n",
    "len(unique_words)"
   ]
  },
  {
   "cell_type": "markdown",
   "metadata": {},
   "source": [
    "## Exceptions\n",
    "\n",
    "Jika kita terjadi error saat menjalankan program yang kita tulis, error tersebut dapat mengakibatkan program kita crash.\n",
    "Kita dapat menggunakan Exception untuk menangkap error tersebut dan memberikan penanganan khusus saat error tersebut muncul."
   ]
  },
  {
   "cell_type": "code",
   "execution_count": null,
   "metadata": {},
   "outputs": [],
   "source": [
    "try:\n",
    "    result = 1 / 0\n",
    "except ZeroDivisionError:\n",
    "    print(\"error pembagian 0\")\n",
    "    # lakukan hal lain jika terjadi error"
   ]
  },
  {
   "cell_type": "markdown",
   "metadata": {},
   "source": [
    "## Basic Mathematical Operations"
   ]
  },
  {
   "cell_type": "code",
   "execution_count": 88,
   "metadata": {},
   "outputs": [
    {
     "data": {
      "text/plain": [
       "22"
      ]
     },
     "execution_count": 88,
     "metadata": {},
     "output_type": "execute_result"
    }
   ],
   "source": [
    "20 + 2"
   ]
  },
  {
   "cell_type": "code",
   "execution_count": 89,
   "metadata": {},
   "outputs": [
    {
     "data": {
      "text/plain": [
       "6.75"
      ]
     },
     "execution_count": 89,
     "metadata": {},
     "output_type": "execute_result"
    }
   ],
   "source": [
    "3 + 2 + 1 - 5 + 4 % 2 - 1 / 4 + 6"
   ]
  },
  {
   "cell_type": "code",
   "execution_count": 87,
   "metadata": {},
   "outputs": [
    {
     "data": {
      "text/plain": [
       "3"
      ]
     },
     "execution_count": 87,
     "metadata": {},
     "output_type": "execute_result"
    }
   ],
   "source": [
    "#10%3  # mod\n",
    "10//3 #div\n",
    "#10/3"
   ]
  },
  {
   "cell_type": "markdown",
   "metadata": {},
   "source": [
    "### Comparison"
   ]
  },
  {
   "cell_type": "code",
   "execution_count": 90,
   "metadata": {},
   "outputs": [
    {
     "data": {
      "text/plain": [
       "True"
      ]
     },
     "execution_count": 90,
     "metadata": {},
     "output_type": "execute_result"
    }
   ],
   "source": [
    "5 > 2"
   ]
  },
  {
   "cell_type": "code",
   "execution_count": 91,
   "metadata": {},
   "outputs": [
    {
     "data": {
      "text/plain": [
       "True"
      ]
     },
     "execution_count": 91,
     "metadata": {},
     "output_type": "execute_result"
    }
   ],
   "source": [
    "10 <= 100"
   ]
  },
  {
   "cell_type": "code",
   "execution_count": 92,
   "metadata": {},
   "outputs": [
    {
     "data": {
      "text/plain": [
       "False"
      ]
     },
     "execution_count": 92,
     "metadata": {},
     "output_type": "execute_result"
    }
   ],
   "source": [
    "5 - 95 > 0"
   ]
  },
  {
   "cell_type": "code",
   "execution_count": 93,
   "metadata": {},
   "outputs": [
    {
     "data": {
      "text/plain": [
       "True"
      ]
     },
     "execution_count": 93,
     "metadata": {},
     "output_type": "execute_result"
    }
   ],
   "source": [
    "7 == 7.0"
   ]
  },
  {
   "cell_type": "code",
   "execution_count": 95,
   "metadata": {},
   "outputs": [
    {
     "data": {
      "text/plain": [
       "True"
      ]
     },
     "execution_count": 95,
     "metadata": {},
     "output_type": "execute_result"
    }
   ],
   "source": [
    "True or False"
   ]
  },
  {
   "cell_type": "code",
   "execution_count": 94,
   "metadata": {},
   "outputs": [
    {
     "data": {
      "text/plain": [
       "False"
      ]
     },
     "execution_count": 94,
     "metadata": {},
     "output_type": "execute_result"
    }
   ],
   "source": [
    "type(7.0) == type(7)"
   ]
  },
  {
   "cell_type": "markdown",
   "metadata": {},
   "source": [
    "## IF "
   ]
  },
  {
   "cell_type": "code",
   "execution_count": 96,
   "metadata": {},
   "outputs": [
    {
     "name": "stdout",
     "output_type": "stream",
     "text": [
      "Antara 3 dan 10\n"
     ]
    }
   ],
   "source": [
    "number = 7\n",
    "\n",
    "if number > 10:\n",
    "    print(\"Lebih dari 10\")\n",
    "elif number < 3:\n",
    "    print(\"Kurang dari 3\")\n",
    "elif number == 3:\n",
    "    print(3)\n",
    "else:\n",
    "    print(\"Antara 3 dan 10\")"
   ]
  },
  {
   "cell_type": "markdown",
   "metadata": {},
   "source": [
    "## Function"
   ]
  },
  {
   "cell_type": "markdown",
   "metadata": {},
   "source": [
    "Function dapat didefinisikan dengan sintak `def` dan seluruh kode yang ada di dalamnya harus memiliki indentasi satu level lebih ke dalam."
   ]
  },
  {
   "cell_type": "code",
   "execution_count": 98,
   "metadata": {},
   "outputs": [
    {
     "data": {
      "text/plain": [
       "True"
      ]
     },
     "execution_count": 98,
     "metadata": {},
     "output_type": "execute_result"
    }
   ],
   "source": [
    "def is_even(x):\n",
    "    \"\"\"\n",
    "    Function untuk mengecek apakah x merupakan bilangan genap\n",
    "    \"\"\"\n",
    "    return x % 2 == 0\n",
    "\n",
    "is_even(16)"
   ]
  },
  {
   "cell_type": "markdown",
   "metadata": {},
   "source": [
    "Sebuah function juga dapat memiliki parameter input dengan nilai default."
   ]
  },
  {
   "cell_type": "code",
   "execution_count": 99,
   "metadata": {},
   "outputs": [],
   "source": [
    "def my_print(message=\"Hello!\"):\n",
    "    \"\"\"\n",
    "    Jika variabel message tidak diberikan\n",
    "    function ini akan mengembalikan nilai default 'Hello!'\n",
    "    \"\"\"\n",
    "    return message"
   ]
  },
  {
   "cell_type": "code",
   "execution_count": 100,
   "metadata": {},
   "outputs": [
    {
     "data": {
      "text/plain": [
       "'Hello!'"
      ]
     },
     "execution_count": 100,
     "metadata": {},
     "output_type": "execute_result"
    }
   ],
   "source": [
    "my_print()"
   ]
  },
  {
   "cell_type": "code",
   "execution_count": 101,
   "metadata": {},
   "outputs": [
    {
     "data": {
      "text/plain": [
       "'Selamat Datang'"
      ]
     },
     "execution_count": 101,
     "metadata": {},
     "output_type": "execute_result"
    }
   ],
   "source": [
    "my_print(\"Selamat Datang\")"
   ]
  },
  {
   "cell_type": "markdown",
   "metadata": {},
   "source": [
    "### Quiz\n",
    "\n",
    "Buat sebuah function untuk mengecek apakah sebuah angka habis dibagi 15."
   ]
  },
  {
   "cell_type": "code",
   "execution_count": 102,
   "metadata": {},
   "outputs": [
    {
     "name": "stdout",
     "output_type": "stream",
     "text": [
      "habis dibagi 15\n"
     ]
    }
   ],
   "source": [
    "def bagi_15(x):\n",
    "    if x%15==0:\n",
    "        print(\"habis dibagi 15\")\n",
    "    else:\n",
    "        print(\"tidak habis dibagi 15\")\n",
    "              \n",
    "bagi_15(30)"
   ]
  },
  {
   "cell_type": "markdown",
   "metadata": {},
   "source": [
    "## Looping"
   ]
  },
  {
   "cell_type": "markdown",
   "metadata": {},
   "source": [
    "### For Loop"
   ]
  },
  {
   "cell_type": "markdown",
   "metadata": {},
   "source": [
    "Membuat list yang berisi Integer dari 0 hingga 9"
   ]
  },
  {
   "cell_type": "code",
   "execution_count": 106,
   "metadata": {},
   "outputs": [
    {
     "data": {
      "text/plain": [
       "[0, 1, 2, 3, 4, 5, 6, 7, 8, 9, 10]"
      ]
     },
     "execution_count": 106,
     "metadata": {},
     "output_type": "execute_result"
    }
   ],
   "source": [
    "list(range(0, 11))"
   ]
  },
  {
   "cell_type": "markdown",
   "metadata": {},
   "source": [
    "For-Loop dari 0 hingga 9 (10 tidak termasuk)"
   ]
  },
  {
   "cell_type": "code",
   "execution_count": 109,
   "metadata": {},
   "outputs": [
    {
     "name": "stdout",
     "output_type": "stream",
     "text": [
      "-1,0,1,2,3,4,5,6,7,8,9,10,"
     ]
    }
   ],
   "source": [
    "for i in range(-1, 11):\n",
    "    print(i,end=\",\")"
   ]
  },
  {
   "cell_type": "markdown",
   "metadata": {},
   "source": [
    "Kita juga bisa melakukan For-Loop pada sebuah List untuk mendapatkan tiap - tiap elemennya."
   ]
  },
  {
   "cell_type": "code",
   "execution_count": 113,
   "metadata": {},
   "outputs": [
    {
     "name": "stdout",
     "output_type": "stream",
     "text": [
      "John Brian Bob "
     ]
    }
   ],
   "source": [
    "people = [\"John\", \"Brian\", \"Bob\"]\n",
    "for person in people:\n",
    "    print(person,end=\" \")"
   ]
  },
  {
   "cell_type": "markdown",
   "metadata": {},
   "source": [
    "Untuk mendapatkan pasaman index-elemen, kita bisa menggunakan method `enumerate`."
   ]
  },
  {
   "cell_type": "code",
   "execution_count": 115,
   "metadata": {},
   "outputs": [
    {
     "name": "stdout",
     "output_type": "stream",
     "text": [
      "0 nama\n",
      "1 umur\n",
      "2 rumah\n"
     ]
    }
   ],
   "source": [
    "#orang={\"nama\":\"unyil\",\"umur\":8, \"rumah\":\"Jabar\"}\n",
    "for i, person in enumerate(orang):\n",
    "    print(i, person)"
   ]
  },
  {
   "cell_type": "markdown",
   "metadata": {},
   "source": [
    "### While Loop"
   ]
  },
  {
   "cell_type": "code",
   "execution_count": 116,
   "metadata": {},
   "outputs": [
    {
     "name": "stdout",
     "output_type": "stream",
     "text": [
      "2\n",
      "4\n",
      "6\n",
      "8\n"
     ]
    }
   ],
   "source": [
    "i = 2\n",
    "while i < 10:\n",
    "    print(i)\n",
    "    i = i + 2"
   ]
  },
  {
   "cell_type": "markdown",
   "metadata": {},
   "source": [
    "### Quiz\n",
    "\n",
    "Tampilkan seluruh bilangan dari 1 - 100, kecuali jika bilang tersebut habis dibagi 3 tampilkan `fizz`.\n",
    "Jika habis dibagi 5, tampilkan `buzz`.\n",
    "Jika habis dibagi 15, tampilkan `fizzbuzz`."
   ]
  },
  {
   "cell_type": "code",
   "execution_count": null,
   "metadata": {},
   "outputs": [],
   "source": [
    "for i in range(1,100):\n",
    "    if i%15==0:\n",
    "        print(\"fizzbuzz\")\n",
    "    elif i%3==0:\n",
    "        print(\"fizz\")\n",
    "    elif i%5==0:\n",
    "        print(\"buzz\")\n",
    "    else:\n",
    "        print(i)"
   ]
  },
  {
   "cell_type": "markdown",
   "metadata": {},
   "source": [
    "## Class and Object"
   ]
  },
  {
   "cell_type": "markdown",
   "metadata": {},
   "source": [
    "Python merupakan bahasa pemrograman yang juga mensupport pemrograman berorientasi objek.\n",
    "Berikut adalah cara untuk pendefinisian Class di Python."
   ]
  },
  {
   "cell_type": "code",
   "execution_count": 119,
   "metadata": {},
   "outputs": [],
   "source": [
    "class Person:\n",
    "    \n",
    "    # method __init__ adalah constructor\n",
    "    def __init__(self):\n",
    "        self.name = \"John\"\n",
    "        self.age = 30\n",
    "        \n",
    "    def get_name(self):\n",
    "        return self.name\n",
    "\n",
    "    def get_age(self):\n",
    "        return self.age"
   ]
  },
  {
   "cell_type": "markdown",
   "metadata": {},
   "source": [
    "Cara instansiasi object dari sebuah Class."
   ]
  },
  {
   "cell_type": "code",
   "execution_count": 120,
   "metadata": {},
   "outputs": [
    {
     "data": {
      "text/plain": [
       "30"
      ]
     },
     "execution_count": 120,
     "metadata": {},
     "output_type": "execute_result"
    }
   ],
   "source": [
    "p = Person()\n",
    "p.get_name()\n",
    "p.get_age()"
   ]
  },
  {
   "cell_type": "markdown",
   "metadata": {},
   "source": [
    "## External Resources\n",
    "1. [Learn Python the Hard Way](https://learnpythonthehardway.org/book/)"
   ]
  }
 ],
 "metadata": {
  "kernelspec": {
   "display_name": "Python 3",
   "language": "python",
   "name": "python3"
  },
  "language_info": {
   "codemirror_mode": {
    "name": "ipython",
    "version": 3
   },
   "file_extension": ".py",
   "mimetype": "text/x-python",
   "name": "python",
   "nbconvert_exporter": "python",
   "pygments_lexer": "ipython3",
   "version": "3.7.3"
  }
 },
 "nbformat": 4,
 "nbformat_minor": 2
}
