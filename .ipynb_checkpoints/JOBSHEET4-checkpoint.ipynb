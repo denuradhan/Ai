{
 "cells": [
  {
   "cell_type": "code",
   "execution_count": 39,
   "metadata": {},
   "outputs": [
    {
     "name": "stdout",
     "output_type": "stream",
     "text": [
      "['A', 'C', 'D', 'E', 'F']\n",
      "0.003998994827270508\n"
     ]
    }
   ],
   "source": [
    "import time\n",
    "DAG = {\n",
    "    'A' : {'C' : 4, 'G' : 9},\n",
    "    'G' : {'E' : 6},\n",
    "    'C' : {'D' : 6, 'H' : 12},\n",
    "    'D' : {'E' : 7},\n",
    "    'H' : {'F' : 15},\n",
    "    'E' : {'F' : 8},\n",
    "    'F' : {'B' : 5}\n",
    "}\n",
    "def shortest_path(graph, source, dest):\n",
    "    result = []\n",
    "    result.append(source)\n",
    "    \n",
    "    \n",
    "    while dest not in result:\n",
    "        current_node = result[-1]\n",
    "        \n",
    "        \n",
    "        local_min = min(graph[current_node].values())\n",
    "        for node, weight in graph[current_node].items():\n",
    "            if weight == local_min:\n",
    "                result.append(node)\n",
    "    return result\n",
    "\n",
    "start = time.time()\n",
    "print(shortest_path(DAG, 'A', 'F'))\n",
    "end = time.time()\n",
    "print(end-start)"
   ]
  },
  {
   "cell_type": "code",
   "execution_count": null,
   "metadata": {},
   "outputs": [],
   "source": [
    "from operator import itemgetter, attrgetter\n",
    "w = [3,4,1,7,6,8,9]\n",
    "p = [4,5,2,5,5,8,11]\n",
    "item = [[3,4],[4,5],[1,2],[7,5],[6,5],[8,8],[9,11]]\n",
    "\n",
    "i=0\n",
    "while i<len(item):\n",
    "    hasil = item[i][1]/item[i][0]\n",
    "    item[i].append(hasil)\n",
    "    i += i\n",
    "\n",
    "dataS = sorted(item,key=itemgetter(2), reverse = True)\n",
    "\n",
    "def knapsack(data,cap,flag):\n",
    "    total=0\n",
    "    tres = \" \"\n",
    "    if(flag==0):\n",
    "        dataS = sorted(data,key=itemgetter(flag), reverse = True)\n",
    "        tres=\"bobot prioritas : \"\n",
    "    elif(flag==1):\n",
    "        dataS = sorted(data,key=itemgetter(flag), reverse = True)\n",
    "        tres=\"keuntungan prioritas : \"\n",
    "    elif(flag==2):\n",
    "        dataS = sorted(data,key=itemgetter(flag), reverse = True)\n",
    "        tres=\"p prioritas : \"\n",
    "    else:\n",
    "        return \"Error\"\n",
    "    \n",
    "    j=0\n",
    "    hasil=0\n",
    "    cek=0\n",
    "    weight=0\n",
    "    while(j<len(dataS)):\n",
    "        \n",
    "        if(cek+dataS[j][0]<cap):\n",
    "            hasil=hasil+dataS[j][1]\n",
    "            weight=weight+dataS[j][0]\n",
    "            print(dataS[j][0])\n",
    "        cek=weight\n",
    "        j+1\n",
    "    return(\"optimal dalam \"+str(tres)+str(hasil))\n",
    "\n",
    "knapsack(item,20,0)"
   ]
  },
  {
   "cell_type": "code",
   "execution_count": null,
   "metadata": {},
   "outputs": [],
   "source": []
  }
 ],
 "metadata": {
  "kernelspec": {
   "display_name": "Python 3",
   "language": "python",
   "name": "python3"
  },
  "language_info": {
   "codemirror_mode": {
    "name": "ipython",
    "version": 3
   },
   "file_extension": ".py",
   "mimetype": "text/x-python",
   "name": "python",
   "nbconvert_exporter": "python",
   "pygments_lexer": "ipython3",
   "version": "3.7.3"
  }
 },
 "nbformat": 4,
 "nbformat_minor": 2
}
