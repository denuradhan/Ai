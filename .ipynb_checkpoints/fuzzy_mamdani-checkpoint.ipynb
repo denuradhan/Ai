{
 "cells": [
  {
   "cell_type": "code",
   "execution_count": 1,
   "metadata": {},
   "outputs": [],
   "source": [
    "def trimf(x, points):\n",
    "    pointA = points[0]\n",
    "    pointB = points[1]\n",
    "    pointC = points[2]\n",
    "    slopeAB = getSlope(pointA, 0, pointB, 1)\n",
    "    slopeBC = getSlope(pointB, 1, pointC, 0)\n",
    "    result = 0\n",
    "    if x >= pointA and x <= pointB:\n",
    "        result = slopeAB * x + getYIntercept(pointA, 0, pointB, 1)\n",
    "    elif x >= pointB and x <= pointC:\n",
    "        result = slopeBC * x + getYIntercept(pointB, 1, pointC, 0)\n",
    "    return result"
   ]
  },
  {
   "cell_type": "code",
   "execution_count": 2,
   "metadata": {},
   "outputs": [],
   "source": [
    "def trapmf(x, points):\n",
    "    pointA = points[0]\n",
    "    pointB = points[1]\n",
    "    pointC = points[2]\n",
    "    pointD = points[3]\n",
    "    slopeAB = getSlope(pointA, 0, pointB, 1)\n",
    "    slopeCD = getSlope(pointC, 1, pointD, 0)\n",
    "    yInterceptAB = getYIntercept(pointA, 0, pointB, 1)\n",
    "    yInterceptCD = getYIntercept(pointC, 1, pointD, 0)\n",
    "    result = 0\n",
    "    if x > pointA and x < pointB:\n",
    "        result = slopeAB * x + yInterceptAB\n",
    "    elif x >= pointB and x <= pointC:\n",
    "        result = 1\n",
    "    elif x > pointC and x < pointD:\n",
    "        result = slopeCD * x + yInterceptCD\n",
    "    return result"
   ]
  },
  {
   "cell_type": "code",
   "execution_count": 3,
   "metadata": {},
   "outputs": [],
   "source": [
    "def getSlope(x1, y1, x2, y2):\n",
    "    #Avoid zero division error of vertical line for shouldered trapmf\n",
    "    try:\n",
    "        slope = (y2 - y1) / (x2 - x1)\n",
    "    except ZeroDivisionError:\n",
    "        slope = 0\n",
    "    return slope"
   ]
  },
  {
   "cell_type": "code",
   "execution_count": 4,
   "metadata": {},
   "outputs": [],
   "source": [
    "def getYIntercept(x1, y1, x2, y2):\n",
    "    m = getSlope(x1, y1, x2, y2)\n",
    "    if y1 < y2:\n",
    "        y = y2\n",
    "        x = x2\n",
    "    else:\n",
    "        y = y1\n",
    "        x = x1\n",
    "    return y - m * x"
   ]
  },
  {
   "cell_type": "code",
   "execution_count": 5,
   "metadata": {},
   "outputs": [],
   "source": [
    "def getTrimfPlots(start, end, points):\n",
    "    plots = [0] * (abs(start) + abs(end))\n",
    "    pointA = points[0]\n",
    "    pointB = points[1]\n",
    "    pointC = points[2]\n",
    "    slopeAB = getSlope(pointA, 0, pointB, 1)\n",
    "    slopeBC = getSlope(pointB, 1, pointC, 0)\n",
    "    yInterceptAB = getYIntercept(pointA, 0, pointB, 1)\n",
    "    yInterceptBC = getYIntercept(pointB, 1, pointC\n",
    "    , 0)\n",
    "    for i in range(pointA, pointB):\n",
    "        plots[i] = slopeAB * i + yInterceptAB\n",
    "    for i in range(pointB, pointC):\n",
    "        plots[i] = slopeBC * i + yInterceptBC\n",
    "    \n",
    "    return plots"
   ]
  },
  {
   "cell_type": "code",
   "execution_count": 6,
   "metadata": {},
   "outputs": [],
   "source": [
    "def getTrapmfPlots(start, end, points, shoulder=None):\n",
    "    plots = [0] * (abs(start) + abs(end))\n",
    "    pointA = points[0]\n",
    "    pointB = points[1]\n",
    "    pointC = points[2]\n",
    "    pointD = points[3]\n",
    "    left = 0\n",
    "    right = 0\n",
    "    slopeAB = getSlope(pointA, 0, pointB, 1)\n",
    "    slopeCD = getSlope(pointC, 1, pointD, 0)\n",
    "    yInterceptAB = getYIntercept(pointA, 0, pointB, 1)\n",
    "    yInterceptCD = getYIntercept(pointC, 1, pointD, 0)\n",
    "    if shoulder == \"left\":\n",
    "        for i in range(start, pointA):\n",
    "            plots[i] = 1\n",
    "    elif shoulder == \"right\":\n",
    "        for i in range(pointD, end):\n",
    "            plots[i] = 1\n",
    "    for i in range(pointA, pointB):\n",
    "        plots[i] = slopeAB * i + yInterceptAB\n",
    "    for i in range(pointB, pointC):\n",
    "        plots[i] = 1\n",
    "    for i in range(pointC, pointD):\n",
    "        plots[i] = slopeCD * i + yInterceptCD\n",
    "    return plots"
   ]
  },
  {
   "cell_type": "code",
   "execution_count": 7,
   "metadata": {},
   "outputs": [],
   "source": [
    "def getCentroid(aggregatedPlots):\n",
    "    n = len(aggregatedPlots)\n",
    "    xAxis = list(range(n))\n",
    "    centroidNum = 0\n",
    "    centroidDenum = 0\n",
    "    for i in range(n):\n",
    "        centroidNum += xAxis[i] * aggregatedPlots[i]\n",
    "        centroidDenum += aggregatedPlots[i]\n",
    "    return centroidNum / centroidDenum"
   ]
  },
  {
   "cell_type": "code",
   "execution_count": 9,
   "metadata": {},
   "outputs": [],
   "source": [
    "def main():\n",
    "    targetTemp = float(input('Enter Target Temperature: '))\n",
    "    currentTemp = float(input('Enter Current Temperature: '))\n",
    "    prevTemp = float(input('Enter Previous Temperature: '))\n",
    "\n",
    "    prevError = targetTemp - prevTemp\n",
    "    currentError = targetTemp - currentTemp\n",
    "\n",
    "    error = currentError\n",
    "    errorDerivative = prevError - currentError\n",
    "\n",
    "    rules = evaluateRules(error, errorDerivative)\n",
    "    aggregateValues = fisAggregation(rules,\n",
    "                                     fuzzifyOutputCooler(),\n",
    "                                     fuzzifyOutputNoChange(),\n",
    "                                     fuzzifyOutputHeater())\n",
    "\n",
    "    centroid = getCentroid(aggregateValues)\n",
    "\n",
    "    print(error)\n",
    "    print(errorDerivative)\n",
    "    print(centroid)"
   ]
  },
  {
   "cell_type": "code",
   "execution_count": 10,
   "metadata": {},
   "outputs": [],
   "source": [
    "def evaluateRules(error, errorDerivative):\n",
    "    rules = [[0] * 3 for i in range(3)]\n",
    "\n",
    "    fuzzifiedErrorNeg = fuzzifyErrorNeg(error)\n",
    "    fuzzifiedErrorZero = fuzzifyErrorZero(error)\n",
    "    fuzzifiedErrorPos = fuzzifyErrorPos(error)\n",
    "\n",
    "    fuzzifiedErrorDotNeg = fuzzifyErrorDotNeg(errorDerivative)\n",
    "    fuzzifiedErrorDotZero = fuzzifyErrorDotZero(errorDerivative)\n",
    "    fuzzifiedErrorDotPos = fuzzifyErrorDotPos(errorDerivative)\n",
    "    # RULE 1\n",
    "    rules[0][0] = min(fuzzifiedErrorNeg, fuzzifiedErrorDotNeg)\n",
    "    # RULE 2\n",
    "    rules[0][1] = min(fuzzifiedErrorZero, fuzzifiedErrorDotNeg)\n",
    "    # RULE 3\n",
    "    rules[0][2] = min(fuzzifiedErrorPos, fuzzifiedErrorDotNeg)\n",
    "    # RULE 4\n",
    "    rules[1][0] = min(fuzzifiedErrorNeg, fuzzifiedErrorDotZero)\n",
    "    # RULE 5\n",
    "    rules[1][1] = min(fuzzifiedErrorZero, fuzzifiedErrorDotZero)\n",
    "    # RULE 6\n",
    "    rules[1][2] = min(fuzzifiedErrorPos, fuzzifiedErrorDotZero)\n",
    "    # RULE 7\n",
    "    rules[2][0] = min(fuzzifiedErrorNeg, fuzzifiedErrorDotPos)\n",
    "    # RULE 8\n",
    "    rules[2][1] = min(fuzzifiedErrorZero, fuzzifiedErrorDotPos)\n",
    "    # RULE 9\n",
    "    rules[2][2] = min(fuzzifiedErrorPos, fuzzifiedErrorDotPos)\n",
    "    return rules"
   ]
  },
  {
   "cell_type": "code",
   "execution_count": 12,
   "metadata": {},
   "outputs": [],
   "source": [
    "def fuzzifyErrorPos(error):\n",
    "    return trimf(error, [0, 5, 5])\n",
    "\n",
    "def fuzzifyErrorZero(error):\n",
    "    return trimf(error, [-5, 0, 5])\n",
    "\n",
    "def fuzzifyErrorNeg(error):\n",
    "    return trimf(error, [-5, -5, 0])\n",
    "\n",
    "def fuzzifyErrorDotPos(errorDot):\n",
    "    return trapmf(errorDot, [1, 1.5, 5, 5])\n",
    "\n",
    "def fuzzifyErrorDotZero(errorDot):\n",
    "    return trimf(errorDot, [-2, 0, 2])\n",
    "\n",
    "def fuzzifyErrorDotNeg(errorDot):\n",
    "    return trapmf(errorDot, [-5, -5, -1.5, -1])\n",
    "\n",
    "def fuzzifyOutputCooler():\n",
    "    return getTrapmfPlots(0, 200, [0, 0, 30, 95], \"left\")\n",
    "\n",
    "def fuzzifyOutputNoChange():\n",
    "    return getTrimfPlots(0, 200, [90, 100, 110])\n",
    "\n",
    "def fuzzifyOutputHeater():\n",
    "    return getTrapmfPlots(0, 200, [105, 170, 200, 200], \"right\")"
   ]
  },
  {
   "cell_type": "code",
   "execution_count": 13,
   "metadata": {},
   "outputs": [
    {
     "name": "stdout",
     "output_type": "stream",
     "text": [
      "Enter Target Temperature: 15\n",
      "Enter Current Temperature: 11\n",
      "Enter Previous Temperature: 13\n",
      "4.0\n",
      "-2.0\n",
      "160.32062391681134\n"
     ]
    }
   ],
   "source": [
    "def fisAggregation(rules, pcc, pcnc, pch):\n",
    "    result = [0] * 200\n",
    "    for rule in range(len(rules)):\n",
    "        for i in range(200):\n",
    "            if rules[rule][0] > 0 and i < 95:\n",
    "                result[i] = min(rules[rule][0], pcc[i])\n",
    "            if rules[rule][1] > 0 and i > 90 and i < 110:\n",
    "                result[i] = min(rules[rule][1], pcnc[i])\n",
    "            if rules[rule][2] > 0 and i > 105 and i < 200:\n",
    "                result[i] = min(rules[rule][2], pch[i])\n",
    "    return result\n",
    "\n",
    "if __name__ == \"__main__\":\n",
    "    main()"
   ]
  },
  {
   "cell_type": "code",
   "execution_count": null,
   "metadata": {},
   "outputs": [],
   "source": []
  }
 ],
 "metadata": {
  "kernelspec": {
   "display_name": "Python 3",
   "language": "python",
   "name": "python3"
  },
  "language_info": {
   "codemirror_mode": {
    "name": "ipython",
    "version": 3
   },
   "file_extension": ".py",
   "mimetype": "text/x-python",
   "name": "python",
   "nbconvert_exporter": "python",
   "pygments_lexer": "ipython3",
   "version": "3.7.3"
  }
 },
 "nbformat": 4,
 "nbformat_minor": 2
}
