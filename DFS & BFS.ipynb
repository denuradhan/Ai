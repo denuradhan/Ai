{
 "cells": [
  {
   "cell_type": "markdown",
   "metadata": {},
   "source": [
    "DFS"
   ]
  },
  {
   "cell_type": "code",
   "execution_count": 1,
   "metadata": {},
   "outputs": [],
   "source": [
    "def recursive_dfs(graph, start, path=[]):\n",
    "    path=path+[start]\n",
    "    for node in graph[start]:\n",
    "        if not node in path:\n",
    "            path=recursive_dfs(graph, node, path)\n",
    "    return path"
   ]
  },
  {
   "cell_type": "code",
   "execution_count": 2,
   "metadata": {},
   "outputs": [],
   "source": [
    "graph = {'A':['B','C','D'],\n",
    "         'B':['E'],\n",
    "         'C':['E'],\n",
    "         'D':['E'],\n",
    "         'E':['A']}"
   ]
  },
  {
   "cell_type": "code",
   "execution_count": 3,
   "metadata": {},
   "outputs": [
    {
     "name": "stdout",
     "output_type": "stream",
     "text": [
      "recursive dfs ['A', 'B', 'E', 'C', 'D']\n"
     ]
    }
   ],
   "source": [
    "print('recursive dfs', recursive_dfs(graph, 'A'))"
   ]
  },
  {
   "cell_type": "markdown",
   "metadata": {},
   "source": [
    "BFS"
   ]
  },
  {
   "cell_type": "code",
   "execution_count": 1,
   "metadata": {},
   "outputs": [],
   "source": [
    "def iterative_bfs(graph, start, path=[]):\n",
    "    q=[start]\n",
    "    while q:\n",
    "        v=q.pop(0)\n",
    "        if not v in path:\n",
    "            path=path+[v]\n",
    "            q=q+graph[v]\n",
    "    return path"
   ]
  },
  {
   "cell_type": "code",
   "execution_count": 2,
   "metadata": {},
   "outputs": [],
   "source": [
    "graph = {'A':['B','C','D'],\n",
    "         'B':['E'],\n",
    "         'C':['E'],\n",
    "         'D':['E'],\n",
    "         'E':['A']}"
   ]
  },
  {
   "cell_type": "code",
   "execution_count": 3,
   "metadata": {},
   "outputs": [
    {
     "name": "stdout",
     "output_type": "stream",
     "text": [
      "iterative bfs ['A', 'B', 'C', 'D', 'E']\n"
     ]
    }
   ],
   "source": [
    "print('iterative bfs', iterative_bfs(graph,'A'))"
   ]
  },
  {
   "cell_type": "code",
   "execution_count": null,
   "metadata": {},
   "outputs": [],
   "source": []
  }
 ],
 "metadata": {
  "kernelspec": {
   "display_name": "Python 3",
   "language": "python",
   "name": "python3"
  },
  "language_info": {
   "codemirror_mode": {
    "name": "ipython",
    "version": 3
   },
   "file_extension": ".py",
   "mimetype": "text/x-python",
   "name": "python",
   "nbconvert_exporter": "python",
   "pygments_lexer": "ipython3",
   "version": "3.7.3"
  }
 },
 "nbformat": 4,
 "nbformat_minor": 2
}
